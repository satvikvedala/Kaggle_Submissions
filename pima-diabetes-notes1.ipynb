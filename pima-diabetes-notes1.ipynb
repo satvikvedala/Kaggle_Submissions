{
 "cells": [
  {
   "cell_type": "code",
   "execution_count": 1,
   "id": "d4c5ea56",
   "metadata": {
    "_cell_guid": "b1076dfc-b9ad-4769-8c92-a6c4dae69d19",
    "_uuid": "8f2839f25d086af736a60e9eeb907d3b93b6e0e5",
    "execution": {
     "iopub.execute_input": "2021-08-23T16:57:53.360318Z",
     "iopub.status.busy": "2021-08-23T16:57:53.359523Z",
     "iopub.status.idle": "2021-08-23T16:57:53.379739Z",
     "shell.execute_reply": "2021-08-23T16:57:53.380560Z",
     "shell.execute_reply.started": "2021-08-23T16:51:32.730292Z"
    },
    "papermill": {
     "duration": 0.07992,
     "end_time": "2021-08-23T16:57:53.380941",
     "exception": false,
     "start_time": "2021-08-23T16:57:53.301021",
     "status": "completed"
    },
    "tags": []
   },
   "outputs": [
    {
     "name": "stdout",
     "output_type": "stream",
     "text": [
      "/kaggle/input/pima-indians-diabetes-database/diabetes.csv\n"
     ]
    }
   ],
   "source": [
    "# This Python 3 environment comes with many helpful analytics libraries installed\n",
    "# It is defined by the kaggle/python Docker image: https://github.com/kaggle/docker-python\n",
    "# For example, here's several helpful packages to load\n",
    "\n",
    "import numpy as np # linear algebra\n",
    "import pandas as pd # data processing, CSV file I/O (e.g. pd.read_csv)\n",
    "\n",
    "# Input data files are available in the read-only \"../input/\" directory\n",
    "# For example, running this (by clicking run or pressing Shift+Enter) will list all files under the input directory\n",
    "\n",
    "import os\n",
    "for dirname, _, filenames in os.walk('/kaggle/input'):\n",
    "    for filename in filenames:\n",
    "        print(os.path.join(dirname, filename))\n",
    "\n",
    "# You can write up to 20GB to the current directory (/kaggle/working/) that gets preserved as output when you create a version using \"Save & Run All\" \n",
    "# You can also write temporary files to /kaggle/temp/, but they won't be saved outside of the current session"
   ]
  },
  {
   "cell_type": "code",
   "execution_count": 2,
   "id": "b19fa0df",
   "metadata": {
    "execution": {
     "iopub.execute_input": "2021-08-23T16:57:53.446502Z",
     "iopub.status.busy": "2021-08-23T16:57:53.445776Z",
     "iopub.status.idle": "2021-08-23T16:57:53.553437Z",
     "shell.execute_reply": "2021-08-23T16:57:53.552845Z",
     "shell.execute_reply.started": "2021-08-23T16:51:32.757760Z"
    },
    "papermill": {
     "duration": 0.142195,
     "end_time": "2021-08-23T16:57:53.553586",
     "exception": false,
     "start_time": "2021-08-23T16:57:53.411391",
     "status": "completed"
    },
    "tags": []
   },
   "outputs": [],
   "source": [
    "df = pd.read_csv(\"../input/pima-indians-diabetes-database/diabetes.csv\")"
   ]
  },
  {
   "cell_type": "code",
   "execution_count": 3,
   "id": "fe87c4d7",
   "metadata": {
    "execution": {
     "iopub.execute_input": "2021-08-23T16:57:53.622176Z",
     "iopub.status.busy": "2021-08-23T16:57:53.621209Z",
     "iopub.status.idle": "2021-08-23T16:57:53.626253Z",
     "shell.execute_reply": "2021-08-23T16:57:53.625703Z",
     "shell.execute_reply.started": "2021-08-23T16:51:32.931542Z"
    },
    "papermill": {
     "duration": 0.042823,
     "end_time": "2021-08-23T16:57:53.626393",
     "exception": false,
     "start_time": "2021-08-23T16:57:53.583570",
     "status": "completed"
    },
    "tags": []
   },
   "outputs": [
    {
     "data": {
      "text/plain": [
       "6912"
      ]
     },
     "execution_count": 3,
     "metadata": {},
     "output_type": "execute_result"
    }
   ],
   "source": [
    "df.size"
   ]
  },
  {
   "cell_type": "code",
   "execution_count": 4,
   "id": "8a65459b",
   "metadata": {
    "execution": {
     "iopub.execute_input": "2021-08-23T16:57:53.690704Z",
     "iopub.status.busy": "2021-08-23T16:57:53.689898Z",
     "iopub.status.idle": "2021-08-23T16:57:53.695576Z",
     "shell.execute_reply": "2021-08-23T16:57:53.696277Z",
     "shell.execute_reply.started": "2021-08-23T16:51:32.942891Z"
    },
    "papermill": {
     "duration": 0.040126,
     "end_time": "2021-08-23T16:57:53.696459",
     "exception": false,
     "start_time": "2021-08-23T16:57:53.656333",
     "status": "completed"
    },
    "tags": []
   },
   "outputs": [
    {
     "data": {
      "text/plain": [
       "Index(['Pregnancies', 'Glucose', 'BloodPressure', 'SkinThickness', 'Insulin',\n",
       "       'BMI', 'DiabetesPedigreeFunction', 'Age', 'Outcome'],\n",
       "      dtype='object')"
      ]
     },
     "execution_count": 4,
     "metadata": {},
     "output_type": "execute_result"
    }
   ],
   "source": [
    "df.columns"
   ]
  },
  {
   "cell_type": "code",
   "execution_count": 5,
   "id": "c40ebe32",
   "metadata": {
    "execution": {
     "iopub.execute_input": "2021-08-23T16:57:53.759976Z",
     "iopub.status.busy": "2021-08-23T16:57:53.759259Z",
     "iopub.status.idle": "2021-08-23T16:57:53.784893Z",
     "shell.execute_reply": "2021-08-23T16:57:53.785437Z",
     "shell.execute_reply.started": "2021-08-23T16:51:32.966034Z"
    },
    "papermill": {
     "duration": 0.059743,
     "end_time": "2021-08-23T16:57:53.785613",
     "exception": false,
     "start_time": "2021-08-23T16:57:53.725870",
     "status": "completed"
    },
    "tags": []
   },
   "outputs": [
    {
     "data": {
      "text/html": [
       "<div>\n",
       "<style scoped>\n",
       "    .dataframe tbody tr th:only-of-type {\n",
       "        vertical-align: middle;\n",
       "    }\n",
       "\n",
       "    .dataframe tbody tr th {\n",
       "        vertical-align: top;\n",
       "    }\n",
       "\n",
       "    .dataframe thead th {\n",
       "        text-align: right;\n",
       "    }\n",
       "</style>\n",
       "<table border=\"1\" class=\"dataframe\">\n",
       "  <thead>\n",
       "    <tr style=\"text-align: right;\">\n",
       "      <th></th>\n",
       "      <th>Pregnancies</th>\n",
       "      <th>Glucose</th>\n",
       "      <th>BloodPressure</th>\n",
       "      <th>SkinThickness</th>\n",
       "      <th>Insulin</th>\n",
       "      <th>BMI</th>\n",
       "      <th>DiabetesPedigreeFunction</th>\n",
       "      <th>Age</th>\n",
       "      <th>Outcome</th>\n",
       "    </tr>\n",
       "  </thead>\n",
       "  <tbody>\n",
       "    <tr>\n",
       "      <th>0</th>\n",
       "      <td>6</td>\n",
       "      <td>148</td>\n",
       "      <td>72</td>\n",
       "      <td>35</td>\n",
       "      <td>0</td>\n",
       "      <td>33.6</td>\n",
       "      <td>0.627</td>\n",
       "      <td>50</td>\n",
       "      <td>1</td>\n",
       "    </tr>\n",
       "    <tr>\n",
       "      <th>1</th>\n",
       "      <td>1</td>\n",
       "      <td>85</td>\n",
       "      <td>66</td>\n",
       "      <td>29</td>\n",
       "      <td>0</td>\n",
       "      <td>26.6</td>\n",
       "      <td>0.351</td>\n",
       "      <td>31</td>\n",
       "      <td>0</td>\n",
       "    </tr>\n",
       "    <tr>\n",
       "      <th>2</th>\n",
       "      <td>8</td>\n",
       "      <td>183</td>\n",
       "      <td>64</td>\n",
       "      <td>0</td>\n",
       "      <td>0</td>\n",
       "      <td>23.3</td>\n",
       "      <td>0.672</td>\n",
       "      <td>32</td>\n",
       "      <td>1</td>\n",
       "    </tr>\n",
       "    <tr>\n",
       "      <th>3</th>\n",
       "      <td>1</td>\n",
       "      <td>89</td>\n",
       "      <td>66</td>\n",
       "      <td>23</td>\n",
       "      <td>94</td>\n",
       "      <td>28.1</td>\n",
       "      <td>0.167</td>\n",
       "      <td>21</td>\n",
       "      <td>0</td>\n",
       "    </tr>\n",
       "    <tr>\n",
       "      <th>4</th>\n",
       "      <td>0</td>\n",
       "      <td>137</td>\n",
       "      <td>40</td>\n",
       "      <td>35</td>\n",
       "      <td>168</td>\n",
       "      <td>43.1</td>\n",
       "      <td>2.288</td>\n",
       "      <td>33</td>\n",
       "      <td>1</td>\n",
       "    </tr>\n",
       "  </tbody>\n",
       "</table>\n",
       "</div>"
      ],
      "text/plain": [
       "   Pregnancies  Glucose  BloodPressure  SkinThickness  Insulin   BMI  \\\n",
       "0            6      148             72             35        0  33.6   \n",
       "1            1       85             66             29        0  26.6   \n",
       "2            8      183             64              0        0  23.3   \n",
       "3            1       89             66             23       94  28.1   \n",
       "4            0      137             40             35      168  43.1   \n",
       "\n",
       "   DiabetesPedigreeFunction  Age  Outcome  \n",
       "0                     0.627   50        1  \n",
       "1                     0.351   31        0  \n",
       "2                     0.672   32        1  \n",
       "3                     0.167   21        0  \n",
       "4                     2.288   33        1  "
      ]
     },
     "execution_count": 5,
     "metadata": {},
     "output_type": "execute_result"
    }
   ],
   "source": [
    "df.head()"
   ]
  },
  {
   "cell_type": "code",
   "execution_count": 6,
   "id": "deca9017",
   "metadata": {
    "execution": {
     "iopub.execute_input": "2021-08-23T16:57:53.854833Z",
     "iopub.status.busy": "2021-08-23T16:57:53.854005Z",
     "iopub.status.idle": "2021-08-23T16:57:53.858334Z",
     "shell.execute_reply": "2021-08-23T16:57:53.857730Z",
     "shell.execute_reply.started": "2021-08-23T16:51:32.991586Z"
    },
    "papermill": {
     "duration": 0.041802,
     "end_time": "2021-08-23T16:57:53.858471",
     "exception": false,
     "start_time": "2021-08-23T16:57:53.816669",
     "status": "completed"
    },
    "tags": []
   },
   "outputs": [
    {
     "data": {
      "text/plain": [
       "0"
      ]
     },
     "execution_count": 6,
     "metadata": {},
     "output_type": "execute_result"
    }
   ],
   "source": [
    "df['Pregnancies'].isna().sum()"
   ]
  },
  {
   "cell_type": "code",
   "execution_count": 7,
   "id": "1028bb07",
   "metadata": {
    "execution": {
     "iopub.execute_input": "2021-08-23T16:57:53.925167Z",
     "iopub.status.busy": "2021-08-23T16:57:53.924286Z",
     "iopub.status.idle": "2021-08-23T16:57:53.927082Z",
     "shell.execute_reply": "2021-08-23T16:57:53.927576Z",
     "shell.execute_reply.started": "2021-08-23T16:51:33.004730Z"
    },
    "papermill": {
     "duration": 0.039034,
     "end_time": "2021-08-23T16:57:53.927773",
     "exception": false,
     "start_time": "2021-08-23T16:57:53.888739",
     "status": "completed"
    },
    "tags": []
   },
   "outputs": [
    {
     "data": {
      "text/plain": [
       "0"
      ]
     },
     "execution_count": 7,
     "metadata": {},
     "output_type": "execute_result"
    }
   ],
   "source": [
    "df['Glucose'].isna().sum()"
   ]
  },
  {
   "cell_type": "code",
   "execution_count": 8,
   "id": "305180ec",
   "metadata": {
    "execution": {
     "iopub.execute_input": "2021-08-23T16:57:53.993510Z",
     "iopub.status.busy": "2021-08-23T16:57:53.992881Z",
     "iopub.status.idle": "2021-08-23T16:57:53.999076Z",
     "shell.execute_reply": "2021-08-23T16:57:53.998510Z",
     "shell.execute_reply.started": "2021-08-23T16:51:33.026763Z"
    },
    "papermill": {
     "duration": 0.040157,
     "end_time": "2021-08-23T16:57:53.999220",
     "exception": false,
     "start_time": "2021-08-23T16:57:53.959063",
     "status": "completed"
    },
    "tags": []
   },
   "outputs": [
    {
     "data": {
      "text/plain": [
       "0"
      ]
     },
     "execution_count": 8,
     "metadata": {},
     "output_type": "execute_result"
    }
   ],
   "source": [
    "df['BloodPressure'].isna().sum()"
   ]
  },
  {
   "cell_type": "code",
   "execution_count": 9,
   "id": "46af62e4",
   "metadata": {
    "execution": {
     "iopub.execute_input": "2021-08-23T16:57:54.067566Z",
     "iopub.status.busy": "2021-08-23T16:57:54.066829Z",
     "iopub.status.idle": "2021-08-23T16:57:54.069546Z",
     "shell.execute_reply": "2021-08-23T16:57:54.070107Z",
     "shell.execute_reply.started": "2021-08-23T16:51:33.047629Z"
    },
    "papermill": {
     "duration": 0.04014,
     "end_time": "2021-08-23T16:57:54.070310",
     "exception": false,
     "start_time": "2021-08-23T16:57:54.030170",
     "status": "completed"
    },
    "tags": []
   },
   "outputs": [
    {
     "data": {
      "text/plain": [
       "0"
      ]
     },
     "execution_count": 9,
     "metadata": {},
     "output_type": "execute_result"
    }
   ],
   "source": [
    "df['SkinThickness'].isna().sum()"
   ]
  },
  {
   "cell_type": "code",
   "execution_count": 10,
   "id": "da16cdde",
   "metadata": {
    "execution": {
     "iopub.execute_input": "2021-08-23T16:57:54.136989Z",
     "iopub.status.busy": "2021-08-23T16:57:54.136304Z",
     "iopub.status.idle": "2021-08-23T16:57:54.142216Z",
     "shell.execute_reply": "2021-08-23T16:57:54.142776Z",
     "shell.execute_reply.started": "2021-08-23T16:51:33.069857Z"
    },
    "papermill": {
     "duration": 0.040575,
     "end_time": "2021-08-23T16:57:54.142951",
     "exception": false,
     "start_time": "2021-08-23T16:57:54.102376",
     "status": "completed"
    },
    "tags": []
   },
   "outputs": [
    {
     "data": {
      "text/plain": [
       "0"
      ]
     },
     "execution_count": 10,
     "metadata": {},
     "output_type": "execute_result"
    }
   ],
   "source": [
    "df['Insulin'].isna().sum()"
   ]
  },
  {
   "cell_type": "code",
   "execution_count": 11,
   "id": "ca6df5af",
   "metadata": {
    "execution": {
     "iopub.execute_input": "2021-08-23T16:57:54.209247Z",
     "iopub.status.busy": "2021-08-23T16:57:54.208600Z",
     "iopub.status.idle": "2021-08-23T16:57:54.216037Z",
     "shell.execute_reply": "2021-08-23T16:57:54.215397Z",
     "shell.execute_reply.started": "2021-08-23T16:51:33.091529Z"
    },
    "papermill": {
     "duration": 0.041731,
     "end_time": "2021-08-23T16:57:54.216180",
     "exception": false,
     "start_time": "2021-08-23T16:57:54.174449",
     "status": "completed"
    },
    "tags": []
   },
   "outputs": [
    {
     "data": {
      "text/plain": [
       "0"
      ]
     },
     "execution_count": 11,
     "metadata": {},
     "output_type": "execute_result"
    }
   ],
   "source": [
    "df['BMI'].isna().sum()"
   ]
  },
  {
   "cell_type": "code",
   "execution_count": 12,
   "id": "83ae89da",
   "metadata": {
    "execution": {
     "iopub.execute_input": "2021-08-23T16:57:54.286818Z",
     "iopub.status.busy": "2021-08-23T16:57:54.286076Z",
     "iopub.status.idle": "2021-08-23T16:57:54.289549Z",
     "shell.execute_reply": "2021-08-23T16:57:54.290068Z",
     "shell.execute_reply.started": "2021-08-23T16:51:33.114025Z"
    },
    "papermill": {
     "duration": 0.042123,
     "end_time": "2021-08-23T16:57:54.290253",
     "exception": false,
     "start_time": "2021-08-23T16:57:54.248130",
     "status": "completed"
    },
    "tags": []
   },
   "outputs": [
    {
     "data": {
      "text/plain": [
       "0"
      ]
     },
     "execution_count": 12,
     "metadata": {},
     "output_type": "execute_result"
    }
   ],
   "source": [
    "df['DiabetesPedigreeFunction'].isna().sum()"
   ]
  },
  {
   "cell_type": "code",
   "execution_count": 13,
   "id": "475fc408",
   "metadata": {
    "execution": {
     "iopub.execute_input": "2021-08-23T16:57:54.357796Z",
     "iopub.status.busy": "2021-08-23T16:57:54.357142Z",
     "iopub.status.idle": "2021-08-23T16:57:54.363046Z",
     "shell.execute_reply": "2021-08-23T16:57:54.363578Z",
     "shell.execute_reply.started": "2021-08-23T16:51:33.133998Z"
    },
    "papermill": {
     "duration": 0.041273,
     "end_time": "2021-08-23T16:57:54.363772",
     "exception": false,
     "start_time": "2021-08-23T16:57:54.322499",
     "status": "completed"
    },
    "tags": []
   },
   "outputs": [
    {
     "data": {
      "text/plain": [
       "0"
      ]
     },
     "execution_count": 13,
     "metadata": {},
     "output_type": "execute_result"
    }
   ],
   "source": [
    "df['Age'].isna().sum()"
   ]
  },
  {
   "cell_type": "code",
   "execution_count": 14,
   "id": "39cb8a7e",
   "metadata": {
    "execution": {
     "iopub.execute_input": "2021-08-23T16:57:54.434833Z",
     "iopub.status.busy": "2021-08-23T16:57:54.434107Z",
     "iopub.status.idle": "2021-08-23T16:57:55.374777Z",
     "shell.execute_reply": "2021-08-23T16:57:55.373955Z",
     "shell.execute_reply.started": "2021-08-23T16:51:33.156557Z"
    },
    "papermill": {
     "duration": 0.977933,
     "end_time": "2021-08-23T16:57:55.374926",
     "exception": false,
     "start_time": "2021-08-23T16:57:54.396993",
     "status": "completed"
    },
    "tags": []
   },
   "outputs": [],
   "source": [
    "import seaborn as sns\n",
    "import matplotlib.pyplot as plt"
   ]
  },
  {
   "cell_type": "code",
   "execution_count": 15,
   "id": "59478226",
   "metadata": {
    "execution": {
     "iopub.execute_input": "2021-08-23T16:57:55.443570Z",
     "iopub.status.busy": "2021-08-23T16:57:55.442574Z",
     "iopub.status.idle": "2021-08-23T16:57:55.480698Z",
     "shell.execute_reply": "2021-08-23T16:57:55.479809Z",
     "shell.execute_reply.started": "2021-08-23T16:51:33.416110Z"
    },
    "papermill": {
     "duration": 0.073615,
     "end_time": "2021-08-23T16:57:55.480861",
     "exception": false,
     "start_time": "2021-08-23T16:57:55.407246",
     "status": "completed"
    },
    "tags": []
   },
   "outputs": [
    {
     "data": {
      "text/html": [
       "<div>\n",
       "<style scoped>\n",
       "    .dataframe tbody tr th:only-of-type {\n",
       "        vertical-align: middle;\n",
       "    }\n",
       "\n",
       "    .dataframe tbody tr th {\n",
       "        vertical-align: top;\n",
       "    }\n",
       "\n",
       "    .dataframe thead th {\n",
       "        text-align: right;\n",
       "    }\n",
       "</style>\n",
       "<table border=\"1\" class=\"dataframe\">\n",
       "  <thead>\n",
       "    <tr style=\"text-align: right;\">\n",
       "      <th></th>\n",
       "      <th></th>\n",
       "      <th>Pregnancies</th>\n",
       "      <th>Glucose</th>\n",
       "      <th>BloodPressure</th>\n",
       "      <th>SkinThickness</th>\n",
       "      <th>Insulin</th>\n",
       "      <th>BMI</th>\n",
       "      <th>DiabetesPedigreeFunction</th>\n",
       "      <th>Age</th>\n",
       "    </tr>\n",
       "    <tr>\n",
       "      <th>Outcome</th>\n",
       "      <th></th>\n",
       "      <th></th>\n",
       "      <th></th>\n",
       "      <th></th>\n",
       "      <th></th>\n",
       "      <th></th>\n",
       "      <th></th>\n",
       "      <th></th>\n",
       "      <th></th>\n",
       "    </tr>\n",
       "  </thead>\n",
       "  <tbody>\n",
       "    <tr>\n",
       "      <th rowspan=\"8\" valign=\"top\">0</th>\n",
       "      <th>Pregnancies</th>\n",
       "      <td>1.000000</td>\n",
       "      <td>0.098685</td>\n",
       "      <td>0.133096</td>\n",
       "      <td>-0.118340</td>\n",
       "      <td>-0.131986</td>\n",
       "      <td>0.016495</td>\n",
       "      <td>-0.079951</td>\n",
       "      <td>0.572776</td>\n",
       "    </tr>\n",
       "    <tr>\n",
       "      <th>Glucose</th>\n",
       "      <td>0.098685</td>\n",
       "      <td>1.000000</td>\n",
       "      <td>0.192795</td>\n",
       "      <td>0.016015</td>\n",
       "      <td>0.352957</td>\n",
       "      <td>0.131749</td>\n",
       "      <td>0.095548</td>\n",
       "      <td>0.228018</td>\n",
       "    </tr>\n",
       "    <tr>\n",
       "      <th>BloodPressure</th>\n",
       "      <td>0.133096</td>\n",
       "      <td>0.192795</td>\n",
       "      <td>1.000000</td>\n",
       "      <td>0.187072</td>\n",
       "      <td>0.074626</td>\n",
       "      <td>0.363178</td>\n",
       "      <td>0.027292</td>\n",
       "      <td>0.214694</td>\n",
       "    </tr>\n",
       "    <tr>\n",
       "      <th>SkinThickness</th>\n",
       "      <td>-0.118340</td>\n",
       "      <td>0.016015</td>\n",
       "      <td>0.187072</td>\n",
       "      <td>1.000000</td>\n",
       "      <td>0.412790</td>\n",
       "      <td>0.438606</td>\n",
       "      <td>0.095181</td>\n",
       "      <td>-0.163788</td>\n",
       "    </tr>\n",
       "    <tr>\n",
       "      <th>Insulin</th>\n",
       "      <td>-0.131986</td>\n",
       "      <td>0.352957</td>\n",
       "      <td>0.074626</td>\n",
       "      <td>0.412790</td>\n",
       "      <td>1.000000</td>\n",
       "      <td>0.254202</td>\n",
       "      <td>0.227385</td>\n",
       "      <td>-0.149234</td>\n",
       "    </tr>\n",
       "    <tr>\n",
       "      <th>BMI</th>\n",
       "      <td>0.016495</td>\n",
       "      <td>0.131749</td>\n",
       "      <td>0.363178</td>\n",
       "      <td>0.438606</td>\n",
       "      <td>0.254202</td>\n",
       "      <td>1.000000</td>\n",
       "      <td>0.070664</td>\n",
       "      <td>0.036070</td>\n",
       "    </tr>\n",
       "    <tr>\n",
       "      <th>DiabetesPedigreeFunction</th>\n",
       "      <td>-0.079951</td>\n",
       "      <td>0.095548</td>\n",
       "      <td>0.027292</td>\n",
       "      <td>0.095181</td>\n",
       "      <td>0.227385</td>\n",
       "      <td>0.070664</td>\n",
       "      <td>1.000000</td>\n",
       "      <td>0.041665</td>\n",
       "    </tr>\n",
       "    <tr>\n",
       "      <th>Age</th>\n",
       "      <td>0.572776</td>\n",
       "      <td>0.228018</td>\n",
       "      <td>0.214694</td>\n",
       "      <td>-0.163788</td>\n",
       "      <td>-0.149234</td>\n",
       "      <td>0.036070</td>\n",
       "      <td>0.041665</td>\n",
       "      <td>1.000000</td>\n",
       "    </tr>\n",
       "    <tr>\n",
       "      <th rowspan=\"8\" valign=\"top\">1</th>\n",
       "      <th>Pregnancies</th>\n",
       "      <td>1.000000</td>\n",
       "      <td>-0.054591</td>\n",
       "      <td>0.126963</td>\n",
       "      <td>-0.079165</td>\n",
       "      <td>-0.078563</td>\n",
       "      <td>-0.159071</td>\n",
       "      <td>-0.069195</td>\n",
       "      <td>0.444987</td>\n",
       "    </tr>\n",
       "    <tr>\n",
       "      <th>Glucose</th>\n",
       "      <td>-0.054591</td>\n",
       "      <td>1.000000</td>\n",
       "      <td>0.068699</td>\n",
       "      <td>0.037618</td>\n",
       "      <td>0.261368</td>\n",
       "      <td>0.050418</td>\n",
       "      <td>0.026474</td>\n",
       "      <td>0.098565</td>\n",
       "    </tr>\n",
       "    <tr>\n",
       "      <th>BloodPressure</th>\n",
       "      <td>0.126963</td>\n",
       "      <td>0.068699</td>\n",
       "      <td>1.000000</td>\n",
       "      <td>0.225247</td>\n",
       "      <td>0.089367</td>\n",
       "      <td>0.133951</td>\n",
       "      <td>0.034522</td>\n",
       "      <td>0.262684</td>\n",
       "    </tr>\n",
       "    <tr>\n",
       "      <th>SkinThickness</th>\n",
       "      <td>-0.079165</td>\n",
       "      <td>0.037618</td>\n",
       "      <td>0.225247</td>\n",
       "      <td>1.000000</td>\n",
       "      <td>0.456558</td>\n",
       "      <td>0.312058</td>\n",
       "      <td>0.273900</td>\n",
       "      <td>-0.092012</td>\n",
       "    </tr>\n",
       "    <tr>\n",
       "      <th>Insulin</th>\n",
       "      <td>-0.078563</td>\n",
       "      <td>0.261368</td>\n",
       "      <td>0.089367</td>\n",
       "      <td>0.456558</td>\n",
       "      <td>1.000000</td>\n",
       "      <td>0.055112</td>\n",
       "      <td>0.101565</td>\n",
       "      <td>0.023944</td>\n",
       "    </tr>\n",
       "    <tr>\n",
       "      <th>BMI</th>\n",
       "      <td>-0.159071</td>\n",
       "      <td>0.050418</td>\n",
       "      <td>0.133951</td>\n",
       "      <td>0.312058</td>\n",
       "      <td>0.055112</td>\n",
       "      <td>1.000000</td>\n",
       "      <td>0.136761</td>\n",
       "      <td>-0.188012</td>\n",
       "    </tr>\n",
       "    <tr>\n",
       "      <th>DiabetesPedigreeFunction</th>\n",
       "      <td>-0.069195</td>\n",
       "      <td>0.026474</td>\n",
       "      <td>0.034522</td>\n",
       "      <td>0.273900</td>\n",
       "      <td>0.101565</td>\n",
       "      <td>0.136761</td>\n",
       "      <td>1.000000</td>\n",
       "      <td>-0.088119</td>\n",
       "    </tr>\n",
       "    <tr>\n",
       "      <th>Age</th>\n",
       "      <td>0.444987</td>\n",
       "      <td>0.098565</td>\n",
       "      <td>0.262684</td>\n",
       "      <td>-0.092012</td>\n",
       "      <td>0.023944</td>\n",
       "      <td>-0.188012</td>\n",
       "      <td>-0.088119</td>\n",
       "      <td>1.000000</td>\n",
       "    </tr>\n",
       "  </tbody>\n",
       "</table>\n",
       "</div>"
      ],
      "text/plain": [
       "                                  Pregnancies   Glucose  BloodPressure  \\\n",
       "Outcome                                                                  \n",
       "0       Pregnancies                  1.000000  0.098685       0.133096   \n",
       "        Glucose                      0.098685  1.000000       0.192795   \n",
       "        BloodPressure                0.133096  0.192795       1.000000   \n",
       "        SkinThickness               -0.118340  0.016015       0.187072   \n",
       "        Insulin                     -0.131986  0.352957       0.074626   \n",
       "        BMI                          0.016495  0.131749       0.363178   \n",
       "        DiabetesPedigreeFunction    -0.079951  0.095548       0.027292   \n",
       "        Age                          0.572776  0.228018       0.214694   \n",
       "1       Pregnancies                  1.000000 -0.054591       0.126963   \n",
       "        Glucose                     -0.054591  1.000000       0.068699   \n",
       "        BloodPressure                0.126963  0.068699       1.000000   \n",
       "        SkinThickness               -0.079165  0.037618       0.225247   \n",
       "        Insulin                     -0.078563  0.261368       0.089367   \n",
       "        BMI                         -0.159071  0.050418       0.133951   \n",
       "        DiabetesPedigreeFunction    -0.069195  0.026474       0.034522   \n",
       "        Age                          0.444987  0.098565       0.262684   \n",
       "\n",
       "                                  SkinThickness   Insulin       BMI  \\\n",
       "Outcome                                                               \n",
       "0       Pregnancies                   -0.118340 -0.131986  0.016495   \n",
       "        Glucose                        0.016015  0.352957  0.131749   \n",
       "        BloodPressure                  0.187072  0.074626  0.363178   \n",
       "        SkinThickness                  1.000000  0.412790  0.438606   \n",
       "        Insulin                        0.412790  1.000000  0.254202   \n",
       "        BMI                            0.438606  0.254202  1.000000   \n",
       "        DiabetesPedigreeFunction       0.095181  0.227385  0.070664   \n",
       "        Age                           -0.163788 -0.149234  0.036070   \n",
       "1       Pregnancies                   -0.079165 -0.078563 -0.159071   \n",
       "        Glucose                        0.037618  0.261368  0.050418   \n",
       "        BloodPressure                  0.225247  0.089367  0.133951   \n",
       "        SkinThickness                  1.000000  0.456558  0.312058   \n",
       "        Insulin                        0.456558  1.000000  0.055112   \n",
       "        BMI                            0.312058  0.055112  1.000000   \n",
       "        DiabetesPedigreeFunction       0.273900  0.101565  0.136761   \n",
       "        Age                           -0.092012  0.023944 -0.188012   \n",
       "\n",
       "                                  DiabetesPedigreeFunction       Age  \n",
       "Outcome                                                               \n",
       "0       Pregnancies                              -0.079951  0.572776  \n",
       "        Glucose                                   0.095548  0.228018  \n",
       "        BloodPressure                             0.027292  0.214694  \n",
       "        SkinThickness                             0.095181 -0.163788  \n",
       "        Insulin                                   0.227385 -0.149234  \n",
       "        BMI                                       0.070664  0.036070  \n",
       "        DiabetesPedigreeFunction                  1.000000  0.041665  \n",
       "        Age                                       0.041665  1.000000  \n",
       "1       Pregnancies                              -0.069195  0.444987  \n",
       "        Glucose                                   0.026474  0.098565  \n",
       "        BloodPressure                             0.034522  0.262684  \n",
       "        SkinThickness                             0.273900 -0.092012  \n",
       "        Insulin                                   0.101565  0.023944  \n",
       "        BMI                                       0.136761 -0.188012  \n",
       "        DiabetesPedigreeFunction                  1.000000 -0.088119  \n",
       "        Age                                      -0.088119  1.000000  "
      ]
     },
     "execution_count": 15,
     "metadata": {},
     "output_type": "execute_result"
    }
   ],
   "source": [
    "df.groupby(df['Outcome']).corr()"
   ]
  },
  {
   "cell_type": "code",
   "execution_count": 16,
   "id": "751cbb75",
   "metadata": {
    "execution": {
     "iopub.execute_input": "2021-08-23T16:57:55.555102Z",
     "iopub.status.busy": "2021-08-23T16:57:55.554072Z",
     "iopub.status.idle": "2021-08-23T16:57:55.954441Z",
     "shell.execute_reply": "2021-08-23T16:57:55.954953Z",
     "shell.execute_reply.started": "2021-08-23T16:51:33.442049Z"
    },
    "papermill": {
     "duration": 0.440232,
     "end_time": "2021-08-23T16:57:55.955150",
     "exception": false,
     "start_time": "2021-08-23T16:57:55.514918",
     "status": "completed"
    },
    "tags": []
   },
   "outputs": [
    {
     "data": {
      "text/plain": [
       "<AxesSubplot:>"
      ]
     },
     "execution_count": 16,
     "metadata": {},
     "output_type": "execute_result"
    },
    {
     "data": {
      "image/png": "[encoded data removed]",
      "text/plain": [
       "<Figure size 1152x360 with 2 Axes>"
      ]
     },
     "metadata": {
      "needs_background": "light"
     },
     "output_type": "display_data"
    }
   ],
   "source": [
    "plt.figure(figsize = (16,5))\n",
    "sns.heatmap(df.corr())"
   ]
  },
  {
   "cell_type": "code",
   "execution_count": 17,
   "id": "26f7c0cf",
   "metadata": {
    "execution": {
     "iopub.execute_input": "2021-08-23T16:57:56.029334Z",
     "iopub.status.busy": "2021-08-23T16:57:56.028274Z",
     "iopub.status.idle": "2021-08-23T16:57:56.034169Z",
     "shell.execute_reply": "2021-08-23T16:57:56.034628Z",
     "shell.execute_reply.started": "2021-08-23T16:51:33.720825Z"
    },
    "papermill": {
     "duration": 0.045008,
     "end_time": "2021-08-23T16:57:56.034826",
     "exception": false,
     "start_time": "2021-08-23T16:57:55.989818",
     "status": "completed"
    },
    "tags": []
   },
   "outputs": [
    {
     "data": {
      "text/plain": [
       "Index(['Pregnancies', 'Glucose', 'BloodPressure', 'SkinThickness', 'Insulin',\n",
       "       'BMI', 'DiabetesPedigreeFunction', 'Age', 'Outcome'],\n",
       "      dtype='object')"
      ]
     },
     "execution_count": 17,
     "metadata": {},
     "output_type": "execute_result"
    }
   ],
   "source": [
    "df.columns"
   ]
  },
  {
   "cell_type": "code",
   "execution_count": 18,
   "id": "2e2b6002",
   "metadata": {
    "execution": {
     "iopub.execute_input": "2021-08-23T16:57:56.108615Z",
     "iopub.status.busy": "2021-08-23T16:57:56.107637Z",
     "iopub.status.idle": "2021-08-23T16:57:56.325310Z",
     "shell.execute_reply": "2021-08-23T16:57:56.325789Z",
     "shell.execute_reply.started": "2021-08-23T16:51:33.728805Z"
    },
    "papermill": {
     "duration": 0.256478,
     "end_time": "2021-08-23T16:57:56.325980",
     "exception": false,
     "start_time": "2021-08-23T16:57:56.069502",
     "status": "completed"
    },
    "tags": []
   },
   "outputs": [
    {
     "data": {
      "text/plain": [
       "<AxesSubplot:xlabel='Glucose', ylabel='Insulin'>"
      ]
     },
     "execution_count": 18,
     "metadata": {},
     "output_type": "execute_result"
    },
    {
     "data": {
      "image/png": "[encoded data removed]",
      "text/plain": [
       "<Figure size 432x288 with 1 Axes>"
      ]
     },
     "metadata": {
      "needs_background": "light"
     },
     "output_type": "display_data"
    }
   ],
   "source": [
    "sns.scatterplot(x = df['Glucose'], y = df['Insulin'])"
   ]
  },
  {
   "cell_type": "code",
   "execution_count": 19,
   "id": "fcd32acd",
   "metadata": {
    "execution": {
     "iopub.execute_input": "2021-08-23T16:57:56.404070Z",
     "iopub.status.busy": "2021-08-23T16:57:56.403069Z",
     "iopub.status.idle": "2021-08-23T16:57:56.500819Z",
     "shell.execute_reply": "2021-08-23T16:57:56.499215Z",
     "shell.execute_reply.started": "2021-08-23T16:51:33.911853Z"
    },
    "papermill": {
     "duration": 0.137307,
     "end_time": "2021-08-23T16:57:56.501109",
     "exception": true,
     "start_time": "2021-08-23T16:57:56.363802",
     "status": "failed"
    },
    "tags": []
   },
   "outputs": [
    {
     "ename": "AttributeError",
     "evalue": "module 'seaborn' has no attribute 'matrixmap'",
     "output_type": "error",
     "traceback": [
      "\u001b[0;31m---------------------------------------------------------------------------\u001b[0m",
      "\u001b[0;31mAttributeError\u001b[0m                            Traceback (most recent call last)",
      "\u001b[0;32m<ipython-input-19-6516de9b2aa7>\u001b[0m in \u001b[0;36m<module>\u001b[0;34m\u001b[0m\n\u001b[0;32m----> 1\u001b[0;31m \u001b[0msns\u001b[0m\u001b[0;34m.\u001b[0m\u001b[0mmatrixmap\u001b[0m\u001b[0;34m(\u001b[0m\u001b[0mdf\u001b[0m\u001b[0;34m)\u001b[0m\u001b[0;34m\u001b[0m\u001b[0;34m\u001b[0m\u001b[0m\n\u001b[0m",
      "\u001b[0;31mAttributeError\u001b[0m: module 'seaborn' has no attribute 'matrixmap'"
     ]
    }
   ],
   "source": [
    "sns.matrixmap(df)"
   ]
  },
  {
   "cell_type": "code",
   "execution_count": null,
   "id": "0a49b667",
   "metadata": {
    "execution": {
     "iopub.execute_input": "2021-08-23T16:51:47.317838Z",
     "iopub.status.busy": "2021-08-23T16:51:47.317482Z",
     "iopub.status.idle": "2021-08-23T16:51:47.801883Z",
     "shell.execute_reply": "2021-08-23T16:51:47.800370Z",
     "shell.execute_reply.started": "2021-08-23T16:51:47.317806Z"
    },
    "papermill": {
     "duration": null,
     "end_time": null,
     "exception": null,
     "start_time": null,
     "status": "pending"
    },
    "tags": []
   },
   "outputs": [],
   "source": [
    "sns.jointplot(x = df['Glucose'],y = df['BMI'],hue = df['Outcome'])"
   ]
  },
  {
   "cell_type": "code",
   "execution_count": null,
   "id": "d3b5781e",
   "metadata": {
    "execution": {
     "iopub.execute_input": "2021-08-23T16:51:48.709025Z",
     "iopub.status.busy": "2021-08-23T16:51:48.708644Z",
     "iopub.status.idle": "2021-08-23T16:52:07.067409Z",
     "shell.execute_reply": "2021-08-23T16:52:07.066206Z",
     "shell.execute_reply.started": "2021-08-23T16:51:48.708994Z"
    },
    "papermill": {
     "duration": null,
     "end_time": null,
     "exception": null,
     "start_time": null,
     "status": "pending"
    },
    "tags": []
   },
   "outputs": [],
   "source": [
    "sns.pairplot(df)"
   ]
  },
  {
   "cell_type": "code",
   "execution_count": null,
   "id": "26fbcdd6",
   "metadata": {
    "execution": {
     "iopub.execute_input": "2021-08-23T16:52:07.069170Z",
     "iopub.status.busy": "2021-08-23T16:52:07.068847Z",
     "iopub.status.idle": "2021-08-23T16:52:07.074854Z",
     "shell.execute_reply": "2021-08-23T16:52:07.073713Z",
     "shell.execute_reply.started": "2021-08-23T16:52:07.069139Z"
    },
    "papermill": {
     "duration": null,
     "end_time": null,
     "exception": null,
     "start_time": null,
     "status": "pending"
    },
    "tags": []
   },
   "outputs": [],
   "source": [
    "Y = df['Outcome']\n",
    "X = df.drop('Outcome',axis=1)"
   ]
  },
  {
   "cell_type": "code",
   "execution_count": null,
   "id": "ccb27412",
   "metadata": {
    "execution": {
     "iopub.execute_input": "2021-08-23T16:54:50.722185Z",
     "iopub.status.busy": "2021-08-23T16:54:50.721727Z",
     "iopub.status.idle": "2021-08-23T16:54:50.728433Z",
     "shell.execute_reply": "2021-08-23T16:54:50.727391Z",
     "shell.execute_reply.started": "2021-08-23T16:54:50.722161Z"
    },
    "papermill": {
     "duration": null,
     "end_time": null,
     "exception": null,
     "start_time": null,
     "status": "pending"
    },
    "tags": []
   },
   "outputs": [],
   "source": [
    "Y.shape"
   ]
  },
  {
   "cell_type": "code",
   "execution_count": null,
   "id": "541ba7ab",
   "metadata": {
    "execution": {
     "iopub.execute_input": "2021-08-23T16:52:07.076512Z",
     "iopub.status.busy": "2021-08-23T16:52:07.076154Z",
     "iopub.status.idle": "2021-08-23T16:52:07.135807Z",
     "shell.execute_reply": "2021-08-23T16:52:07.135256Z",
     "shell.execute_reply.started": "2021-08-23T16:52:07.076486Z"
    },
    "papermill": {
     "duration": null,
     "end_time": null,
     "exception": null,
     "start_time": null,
     "status": "pending"
    },
    "tags": []
   },
   "outputs": [],
   "source": [
    "from sklearn.model_selection import train_test_split"
   ]
  },
  {
   "cell_type": "code",
   "execution_count": null,
   "id": "4e647cf0",
   "metadata": {
    "execution": {
     "iopub.execute_input": "2021-08-23T16:55:10.126650Z",
     "iopub.status.busy": "2021-08-23T16:55:10.126265Z",
     "iopub.status.idle": "2021-08-23T16:55:10.139069Z",
     "shell.execute_reply": "2021-08-23T16:55:10.138051Z",
     "shell.execute_reply.started": "2021-08-23T16:55:10.126620Z"
    },
    "papermill": {
     "duration": null,
     "end_time": null,
     "exception": null,
     "start_time": null,
     "status": "pending"
    },
    "tags": []
   },
   "outputs": [],
   "source": [
    "X_train,X_test,Y_train,Y_test = train_test_split(X,Y,test_size = 0.30,random_state = 0)"
   ]
  },
  {
   "cell_type": "code",
   "execution_count": null,
   "id": "ad392e22",
   "metadata": {
    "execution": {
     "iopub.execute_input": "2021-08-23T16:55:16.250478Z",
     "iopub.status.busy": "2021-08-23T16:55:16.250185Z",
     "iopub.status.idle": "2021-08-23T16:55:16.256715Z",
     "shell.execute_reply": "2021-08-23T16:55:16.255924Z",
     "shell.execute_reply.started": "2021-08-23T16:55:16.250453Z"
    },
    "papermill": {
     "duration": null,
     "end_time": null,
     "exception": null,
     "start_time": null,
     "status": "pending"
    },
    "tags": []
   },
   "outputs": [],
   "source": [
    "Y_train.shape"
   ]
  },
  {
   "cell_type": "code",
   "execution_count": null,
   "id": "841f1085",
   "metadata": {
    "execution": {
     "iopub.execute_input": "2021-08-23T16:55:21.417863Z",
     "iopub.status.busy": "2021-08-23T16:55:21.417514Z",
     "iopub.status.idle": "2021-08-23T16:55:21.423959Z",
     "shell.execute_reply": "2021-08-23T16:55:21.421658Z",
     "shell.execute_reply.started": "2021-08-23T16:55:21.417833Z"
    },
    "papermill": {
     "duration": null,
     "end_time": null,
     "exception": null,
     "start_time": null,
     "status": "pending"
    },
    "tags": []
   },
   "outputs": [],
   "source": [
    "from sklearn.preprocessing import StandardScaler"
   ]
  },
  {
   "cell_type": "code",
   "execution_count": null,
   "id": "f926ec5f",
   "metadata": {
    "execution": {
     "iopub.execute_input": "2021-08-23T16:55:23.083765Z",
     "iopub.status.busy": "2021-08-23T16:55:23.083398Z",
     "iopub.status.idle": "2021-08-23T16:55:23.099630Z",
     "shell.execute_reply": "2021-08-23T16:55:23.097844Z",
     "shell.execute_reply.started": "2021-08-23T16:55:23.083735Z"
    },
    "papermill": {
     "duration": null,
     "end_time": null,
     "exception": null,
     "start_time": null,
     "status": "pending"
    },
    "tags": []
   },
   "outputs": [],
   "source": [
    "ssc = StandardScaler()\n",
    "X_train = ssc.fit_transform(X_train)\n",
    "X_test = ssc.transform(X_test)"
   ]
  },
  {
   "cell_type": "code",
   "execution_count": null,
   "id": "655e6dbc",
   "metadata": {
    "execution": {
     "iopub.execute_input": "2021-08-23T16:55:24.518685Z",
     "iopub.status.busy": "2021-08-23T16:55:24.518329Z",
     "iopub.status.idle": "2021-08-23T16:55:24.522655Z",
     "shell.execute_reply": "2021-08-23T16:55:24.521762Z",
     "shell.execute_reply.started": "2021-08-23T16:55:24.518655Z"
    },
    "papermill": {
     "duration": null,
     "end_time": null,
     "exception": null,
     "start_time": null,
     "status": "pending"
    },
    "tags": []
   },
   "outputs": [],
   "source": [
    "from sklearn.linear_model import LogisticRegression "
   ]
  },
  {
   "cell_type": "code",
   "execution_count": null,
   "id": "d4bbbe4d",
   "metadata": {
    "execution": {
     "iopub.execute_input": "2021-08-23T16:55:25.878408Z",
     "iopub.status.busy": "2021-08-23T16:55:25.877885Z",
     "iopub.status.idle": "2021-08-23T16:55:25.882815Z",
     "shell.execute_reply": "2021-08-23T16:55:25.881552Z",
     "shell.execute_reply.started": "2021-08-23T16:55:25.878377Z"
    },
    "papermill": {
     "duration": null,
     "end_time": null,
     "exception": null,
     "start_time": null,
     "status": "pending"
    },
    "tags": []
   },
   "outputs": [],
   "source": [
    "Lr = LogisticRegression(random_state=0)"
   ]
  },
  {
   "cell_type": "raw",
   "id": "6d383499",
   "metadata": {
    "papermill": {
     "duration": null,
     "end_time": null,
     "exception": null,
     "start_time": null,
     "status": "pending"
    },
    "tags": []
   },
   "source": []
  },
  {
   "cell_type": "code",
   "execution_count": null,
   "id": "57c70c2c",
   "metadata": {
    "execution": {
     "iopub.execute_input": "2021-08-23T16:55:29.376434Z",
     "iopub.status.busy": "2021-08-23T16:55:29.375894Z",
     "iopub.status.idle": "2021-08-23T16:55:29.403601Z",
     "shell.execute_reply": "2021-08-23T16:55:29.402304Z",
     "shell.execute_reply.started": "2021-08-23T16:55:29.376402Z"
    },
    "papermill": {
     "duration": null,
     "end_time": null,
     "exception": null,
     "start_time": null,
     "status": "pending"
    },
    "tags": []
   },
   "outputs": [],
   "source": [
    "Lr.fit(X_train,Y_train)"
   ]
  },
  {
   "cell_type": "code",
   "execution_count": null,
   "id": "2f074e7c",
   "metadata": {
    "execution": {
     "iopub.execute_input": "2021-08-23T16:56:04.869375Z",
     "iopub.status.busy": "2021-08-23T16:56:04.869003Z",
     "iopub.status.idle": "2021-08-23T16:56:04.874235Z",
     "shell.execute_reply": "2021-08-23T16:56:04.873026Z",
     "shell.execute_reply.started": "2021-08-23T16:56:04.869344Z"
    },
    "papermill": {
     "duration": null,
     "end_time": null,
     "exception": null,
     "start_time": null,
     "status": "pending"
    },
    "tags": []
   },
   "outputs": [],
   "source": [
    "y_pred = Lr.predict(X_test)"
   ]
  },
  {
   "cell_type": "code",
   "execution_count": null,
   "id": "915da1ce",
   "metadata": {
    "execution": {
     "iopub.execute_input": "2021-08-23T16:56:40.497551Z",
     "iopub.status.busy": "2021-08-23T16:56:40.497106Z",
     "iopub.status.idle": "2021-08-23T16:56:40.501488Z",
     "shell.execute_reply": "2021-08-23T16:56:40.500664Z",
     "shell.execute_reply.started": "2021-08-23T16:56:40.497502Z"
    },
    "papermill": {
     "duration": null,
     "end_time": null,
     "exception": null,
     "start_time": null,
     "status": "pending"
    },
    "tags": []
   },
   "outputs": [],
   "source": [
    "from sklearn.metrics import accuracy_score"
   ]
  },
  {
   "cell_type": "code",
   "execution_count": null,
   "id": "707ed7c2",
   "metadata": {
    "execution": {
     "iopub.execute_input": "2021-08-23T16:57:00.473999Z",
     "iopub.status.busy": "2021-08-23T16:57:00.473518Z",
     "iopub.status.idle": "2021-08-23T16:57:00.480756Z",
     "shell.execute_reply": "2021-08-23T16:57:00.479597Z",
     "shell.execute_reply.started": "2021-08-23T16:57:00.473968Z"
    },
    "papermill": {
     "duration": null,
     "end_time": null,
     "exception": null,
     "start_time": null,
     "status": "pending"
    },
    "tags": []
   },
   "outputs": [],
   "source": [
    "print (\"Accuracy : \", accuracy_score(Y_test, y_pred))"
   ]
  },
  {
   "cell_type": "code",
   "execution_count": null,
   "id": "771acccc",
   "metadata": {
    "papermill": {
     "duration": null,
     "end_time": null,
     "exception": null,
     "start_time": null,
     "status": "pending"
    },
    "tags": []
   },
   "outputs": [],
   "source": []
  }
 ],
 "metadata": {
  "kernelspec": {
   "display_name": "Python 3",
   "language": "python",
   "name": "python3"
  },
  "language_info": {
   "codemirror_mode": {
    "name": "ipython",
    "version": 3
   },
   "file_extension": ".py",
   "mimetype": "text/x-python",
   "name": "python",
   "nbconvert_exporter": "python",
   "pygments_lexer": "ipython3",
   "version": "3.7.10"
  },
  "papermill": {
   "default_parameters": {},
   "duration": 12.823957,
   "end_time": "2021-08-23T16:57:57.755235",
   "environment_variables": {},
   "exception": true,
   "input_path": "__notebook__.ipynb",
   "output_path": "__notebook__.ipynb",
   "parameters": {},
   "start_time": "2021-08-23T16:57:44.931278",
   "version": "2.3.3"
  }
 },
 "nbformat": 4,
 "nbformat_minor": 5
}
